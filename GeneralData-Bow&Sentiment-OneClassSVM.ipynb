{
 "cells": [
  {
   "cell_type": "code",
   "execution_count": 32,
   "metadata": {
    "collapsed": false
   },
   "outputs": [
    {
     "name": "stderr",
     "output_type": "stream",
     "text": [
      "/usr/lib/python3.5/site-packages/matplotlib/font_manager.py:273: UserWarning: Matplotlib is building the font cache using fc-list. This may take a moment.\n",
      "  warnings.warn('Matplotlib is building the font cache using fc-list. This may take a moment.')\n",
      "/usr/lib/python3.5/site-packages/matplotlib/font_manager.py:273: UserWarning: Matplotlib is building the font cache using fc-list. This may take a moment.\n",
      "  warnings.warn('Matplotlib is building the font cache using fc-list. This may take a moment.')\n"
     ]
    }
   ],
   "source": [
    "import os\n",
    "import requests\n",
    "import nltk\n",
    "import pandas as pd\n",
    "import numpy as np\n",
    "import seaborn as sns\n",
    "\n",
    "from nltk.stem.porter import PorterStemmer\n",
    "from bs4 import BeautifulSoup\n",
    "from time import sleep, time, strftime\n",
    "from sklearn import svm\n",
    "from sklearn.metrics import classification_report, confusion_matrix\n",
    "from sklearn.feature_extraction.text import CountVectorizer\n",
    "from matplotlib import pyplot as plt\n",
    "\n",
    "%matplotlib inline"
   ]
  },
  {
   "cell_type": "code",
   "execution_count": 30,
   "metadata": {
    "collapsed": false
   },
   "outputs": [],
   "source": [
    "train_path = 'GeneralData/train'\n",
    "test_path = 'GeneralData/test'\n",
    "train_files = []\n",
    "test_files = []\n",
    "chat_sents = []\n",
    "\n",
    "stemmer = PorterStemmer()\n",
    "afinn = dict(map(lambda words: (words[0], int(words[1])),\n",
    "         [line.split('\\t') for line in open(\"AFINN/AFINN-111.txt\")]))"
   ]
  },
  {
   "cell_type": "code",
   "execution_count": 36,
   "metadata": {
    "collapsed": true
   },
   "outputs": [],
   "source": [
    "def correctify(data):\n",
    "    payload = {'data': data}\n",
    "    r = requests.get('http://127.0.0.1:1049/checkDocument', params=payload)\n",
    "    \n",
    "    with open(\"atd-log\", 'a') as f:\n",
    "        f.write(\"[%s]\\n\" % strftime(\"%c\"))\n",
    "        f.write(\"\\t%s\" % r.text)\n",
    "        \n",
    "    soup = BeautifulSoup(r.text, 'xml')\n",
    "    \n",
    "    if soup.error:\n",
    "        all_err = soup.findAll('error')\n",
    "        for err in all_err:\n",
    "            s = err.description.findPrevious()\n",
    "            if not err.type.string == 'grammar':\n",
    "                if isinstance(err.option, type(err)):\n",
    "                    if err.option.string and err.precontext.string:\n",
    "                        beg = data.find(err.precontext.string + s.string) + (data.find(s.string) - data.find(err.precontext.string + s.string))\n",
    "                        tmp = data[:beg-1] + ' '\n",
    "                        tmp += err.option.string\n",
    "                        tmp += data[beg+len(s.string):]\n",
    "                        data = tmp\n",
    "                        del tmp\n",
    "                    elif err.option.string:\n",
    "                        beg = data.find(s.string)\n",
    "                        tmp = data[:beg-1] + ' '\n",
    "                        tmp += err.option.string\n",
    "                        tmp += data[beg+len(s.string):]\n",
    "                        data = tmp\n",
    "                        del tmp\n",
    "    return data\n",
    "#\n",
    "# ----------\n",
    "#\n",
    "def AFINN(data):\n",
    "    score = 0\n",
    "    for words in nltk.word_tokenize(data):\n",
    "        try:\n",
    "            score = score + afinn[words.lower()]\n",
    "        except KeyError:\n",
    "            with open(\"afinn-log\", 'a') as f:\n",
    "                f.write(\"%s\\n\" % words)\n",
    "            continue\n",
    "    return score\n",
    "#\n",
    "# ----------\n",
    "#\n",
    "def data_extractor(file, mode):\n",
    "    tmp=[]\n",
    "\n",
    "    print(\"Extracting from: \", file)\n",
    "    \n",
    "    f = open(file)\n",
    "    soup = BeautifulSoup(f, 'xml')\n",
    "\n",
    "    # data extraction\n",
    "    predator = soup.find('PREDATOR')\n",
    "    uid = predator.SCREENNAME.USERNAME.string\n",
    "    all_post = soup.findAll('POST')\n",
    "    for post in all_post:\n",
    "        if mode == \"train\":\n",
    "            if post.USERNAME.string == uid:\n",
    "                if post.BODY.string:\n",
    "                    tmp.append(post.BODY.string)\n",
    "        if mode == \"test\":\n",
    "            if post.BODY.string:\n",
    "                tmp.append(post.BODY.string)\n",
    "            \n",
    "    f.close()\n",
    "    \n",
    "    # spelling correction using ATD\n",
    "    corrected = []\n",
    "    print(\"Correcting: \", file)\n",
    "    for s in tmp:\n",
    "        corrected.append(correctify(s))\n",
    "    #return corrected\n",
    "\n",
    "    # Sentiment scoring using AFINN & saving to tsv\n",
    "    print(\"Calculating sentiment using AFINN:\", file)\n",
    "    for s in corrected:\n",
    "        sentiment_score = AFINN(s)\n",
    "        filename = \"clean-\" + mode + \"ing-set-OCSVM.tsv\"\n",
    "        with open(filename, 'a') as f:\n",
    "            #for x, y in zip(s, sentiment_score):\n",
    "            f.write(\"%s\\t%d\\n\" % (s, sentiment_score))\n",
    "#\n",
    "# ----------\n",
    "#\n",
    "def get_filenames(path):\n",
    "    list_of_files = []\n",
    "    for subdir, dirs, files in os.walk(path):\n",
    "        for file in files:\n",
    "            file_path = subdir + os.path.sep + file\n",
    "            list_of_files.append(file_path)\n",
    "    return list_of_files\n",
    "#\n",
    "# ----------\n",
    "#\n",
    "def cb(data):\n",
    "    \n",
    "    if data:\n",
    "        global chat_sents\n",
    "        #lock.acquire()\n",
    "        #[chat_sents.put(data[i]) for i in range(len(data))]\n",
    "        chat_sents.extend(data)\n",
    "        #lock.release()\n",
    "#\n",
    "# ----------\n",
    "#"
   ]
  },
  {
   "cell_type": "code",
   "execution_count": 32,
   "metadata": {
    "collapsed": false
   },
   "outputs": [
    {
     "name": "stdout",
     "output_type": "stream",
     "text": [
      "CPU times: user 3.33 ms, sys: 0 ns, total: 3.33 ms\n",
      "Wall time: 988 µs\n"
     ]
    }
   ],
   "source": [
    "%%time\n",
    "train_files = get_filenames(train_path)\n",
    "test_files = get_filenames(test_path)"
   ]
  },
  {
   "cell_type": "code",
   "execution_count": 35,
   "metadata": {
    "collapsed": false,
    "scrolled": true
   },
   "outputs": [
    {
     "name": "stdout",
     "output_type": "stream",
     "text": [
      "Extracting from:  GeneralData/train/Pavlov1234.xml\n",
      "Correcting:  GeneralData/train/Pavlov1234.xml\n",
      "Calculating sentiment using AFINN: GeneralData/train/Pavlov1234.xml\n",
      "Extracting from:  GeneralData/train/fredold_2000.xml\n",
      "Correcting:  GeneralData/train/fredold_2000.xml\n",
      "Calculating sentiment using AFINN: GeneralData/train/fredold_2000.xml\n",
      "Extracting from:  GeneralData/train/nickpaul19802000.xml\n",
      "Correcting:  GeneralData/train/nickpaul19802000.xml\n",
      "Calculating sentiment using AFINN: GeneralData/train/nickpaul19802000.xml\n",
      "Extracting from:  GeneralData/train/arthinice.xml\n",
      "Correcting:  GeneralData/train/arthinice.xml\n",
      "Calculating sentiment using AFINN: GeneralData/train/arthinice.xml\n",
      "Extracting from:  GeneralData/train/mjn_523.xml\n",
      "Correcting:  GeneralData/train/mjn_523.xml\n",
      "Calculating sentiment using AFINN: GeneralData/train/mjn_523.xml\n",
      "Extracting from:  GeneralData/train/dble_d1.xml\n",
      "Correcting:  GeneralData/train/dble_d1.xml\n",
      "Calculating sentiment using AFINN: GeneralData/train/dble_d1.xml\n",
      "Extracting from:  GeneralData/train/jon_raven2000.xml\n",
      "Correcting:  GeneralData/train/jon_raven2000.xml\n",
      "Calculating sentiment using AFINN: GeneralData/train/jon_raven2000.xml\n",
      "Extracting from:  GeneralData/train/cuteguyinoc2002.xml\n",
      "Correcting:  GeneralData/train/cuteguyinoc2002.xml\n",
      "Calculating sentiment using AFINN: GeneralData/train/cuteguyinoc2002.xml\n",
      "Extracting from:  GeneralData/train/marc_00_48089.xml\n",
      "Correcting:  GeneralData/train/marc_00_48089.xml\n",
      "Calculating sentiment using AFINN: GeneralData/train/marc_00_48089.xml\n",
      "Extracting from:  GeneralData/train/corazon23456partio23456.xml\n",
      "Correcting:  GeneralData/train/corazon23456partio23456.xml\n",
      "Calculating sentiment using AFINN: GeneralData/train/corazon23456partio23456.xml\n",
      "Extracting from:  GeneralData/train/fotophix.xml\n",
      "Correcting:  GeneralData/train/fotophix.xml\n",
      "Calculating sentiment using AFINN: GeneralData/train/fotophix.xml\n",
      "Extracting from:  GeneralData/train/m4pixeleen.xml\n",
      "Correcting:  GeneralData/train/m4pixeleen.xml\n",
      "Calculating sentiment using AFINN: GeneralData/train/m4pixeleen.xml\n",
      "Extracting from:  GeneralData/train/manofdarkneedsl951.xml\n",
      "Correcting:  GeneralData/train/manofdarkneedsl951.xml\n",
      "Calculating sentiment using AFINN: GeneralData/train/manofdarkneedsl951.xml\n",
      "Extracting from:  GeneralData/train/fightingfalconsguy.xml\n",
      "Correcting:  GeneralData/train/fightingfalconsguy.xml\n",
      "Calculating sentiment using AFINN: GeneralData/train/fightingfalconsguy.xml\n",
      "Extracting from:  GeneralData/train/mikespikegetiingcrazytocu.xml\n",
      "Correcting:  GeneralData/train/mikespikegetiingcrazytocu.xml\n",
      "Calculating sentiment using AFINN: GeneralData/train/mikespikegetiingcrazytocu.xml\n",
      "Extracting from:  GeneralData/train/i_smoke_alotta_weed.xml\n",
      "Correcting:  GeneralData/train/i_smoke_alotta_weed.xml\n",
      "Calculating sentiment using AFINN: GeneralData/train/i_smoke_alotta_weed.xml\n",
      "Extracting from:  GeneralData/train/Wulfker_Dragonslayer.xml\n",
      "Correcting:  GeneralData/train/Wulfker_Dragonslayer.xml\n",
      "Calculating sentiment using AFINN: GeneralData/train/Wulfker_Dragonslayer.xml\n",
      "Extracting from:  GeneralData/train/ghost27_73.xml\n",
      "Correcting:  GeneralData/train/ghost27_73.xml\n",
      "Calculating sentiment using AFINN: GeneralData/train/ghost27_73.xml\n",
      "Extracting from:  GeneralData/train/ArmySgt1961.xml\n",
      "Correcting:  GeneralData/train/ArmySgt1961.xml\n",
      "Calculating sentiment using AFINN: GeneralData/train/ArmySgt1961.xml\n",
      "Extracting from:  GeneralData/train/lee_greer74.xml\n",
      "Correcting:  GeneralData/train/lee_greer74.xml\n",
      "Calculating sentiment using AFINN: GeneralData/train/lee_greer74.xml\n",
      "Extracting from:  GeneralData/train/i_8u_raw.xml\n",
      "Correcting:  GeneralData/train/i_8u_raw.xml\n",
      "Calculating sentiment using AFINN: GeneralData/train/i_8u_raw.xml\n",
      "Extracting from:  GeneralData/train/jleno9.xml\n",
      "Correcting:  GeneralData/train/jleno9.xml\n",
      "Calculating sentiment using AFINN: GeneralData/train/jleno9.xml\n",
      "Extracting from:  GeneralData/train/netbuckeye.xml\n",
      "Correcting:  GeneralData/train/netbuckeye.xml\n",
      "Calculating sentiment using AFINN: GeneralData/train/netbuckeye.xml\n",
      "Extracting from:  GeneralData/train/italianlover37.xml\n",
      "Correcting:  GeneralData/train/italianlover37.xml\n",
      "Calculating sentiment using AFINN: GeneralData/train/italianlover37.xml\n",
      "Extracting from:  GeneralData/train/holdyoucloser2003.xml\n",
      "Correcting:  GeneralData/train/holdyoucloser2003.xml\n",
      "Calculating sentiment using AFINN: GeneralData/train/holdyoucloser2003.xml\n",
      "Extracting from:  GeneralData/train/crazytrini85.xml\n",
      "Correcting:  GeneralData/train/crazytrini85.xml\n",
      "Calculating sentiment using AFINN: GeneralData/train/crazytrini85.xml\n",
      "Extracting from:  GeneralData/train/Socal128.xml\n",
      "Correcting:  GeneralData/train/Socal128.xml\n",
      "Calculating sentiment using AFINN: GeneralData/train/Socal128.xml\n",
      "Extracting from:  GeneralData/train/flxnonya.xml\n",
      "Correcting:  GeneralData/train/flxnonya.xml\n",
      "Calculating sentiment using AFINN: GeneralData/train/flxnonya.xml\n",
      "Extracting from:  GeneralData/train/ndbaseballstudd.xml\n",
      "Correcting:  GeneralData/train/ndbaseballstudd.xml\n",
      "Calculating sentiment using AFINN: GeneralData/train/ndbaseballstudd.xml\n",
      "Extracting from:  GeneralData/train/jackenit_6in.xml\n",
      "Correcting:  GeneralData/train/jackenit_6in.xml\n",
      "Calculating sentiment using AFINN: GeneralData/train/jackenit_6in.xml\n",
      "Extracting from:  GeneralData/train/aticloose.xml\n",
      "Correcting:  GeneralData/train/aticloose.xml\n",
      "Calculating sentiment using AFINN: GeneralData/train/aticloose.xml\n",
      "Extracting from:  GeneralData/train/pitbulldavid2001.xml\n",
      "Correcting:  GeneralData/train/pitbulldavid2001.xml\n",
      "Calculating sentiment using AFINN: GeneralData/train/pitbulldavid2001.xml\n",
      "Extracting from:  GeneralData/train/jkspeedster0112.xml\n",
      "Correcting:  GeneralData/train/jkspeedster0112.xml\n",
      "Calculating sentiment using AFINN: GeneralData/train/jkspeedster0112.xml\n",
      "Extracting from:  GeneralData/train/hiexcitement.xml\n",
      "Correcting:  GeneralData/train/hiexcitement.xml\n",
      "Calculating sentiment using AFINN: GeneralData/train/hiexcitement.xml\n",
      "Extracting from:  GeneralData/train/asian_kreationz.xml\n",
      "Correcting:  GeneralData/train/asian_kreationz.xml\n",
      "Calculating sentiment using AFINN: GeneralData/train/asian_kreationz.xml\n",
      "Extracting from:  GeneralData/train/icepirate53.xml\n",
      "Correcting:  GeneralData/train/icepirate53.xml\n",
      "Calculating sentiment using AFINN: GeneralData/train/icepirate53.xml\n",
      "Extracting from:  GeneralData/train/needinit1983.xml\n",
      "Correcting:  GeneralData/train/needinit1983.xml\n",
      "Calculating sentiment using AFINN: GeneralData/train/needinit1983.xml\n"
     ]
    }
   ],
   "source": [
    "for file in train_files:\n",
    "    data_extractor(file, \"train\")"
   ]
  },
  {
   "cell_type": "code",
   "execution_count": 37,
   "metadata": {
    "collapsed": false,
    "scrolled": true
   },
   "outputs": [
    {
     "name": "stdout",
     "output_type": "stream",
     "text": [
      "Extracting from:  GeneralData/test/sweet_jason002.xml\n",
      "Correcting:  GeneralData/test/sweet_jason002.xml\n",
      "Calculating sentiment using AFINN: GeneralData/test/sweet_jason002.xml\n",
      "Extracting from:  GeneralData/test/red387peter.xml\n",
      "Correcting:  GeneralData/test/red387peter.xml\n",
      "Calculating sentiment using AFINN: GeneralData/test/red387peter.xml\n",
      "Extracting from:  GeneralData/test/sphinx_56_02.xml\n",
      "Correcting:  GeneralData/test/sphinx_56_02.xml\n",
      "Calculating sentiment using AFINN: GeneralData/test/sphinx_56_02.xml\n",
      "Extracting from:  GeneralData/test/sebastian_calif.xml\n",
      "Correcting:  GeneralData/test/sebastian_calif.xml\n",
      "Calculating sentiment using AFINN: GeneralData/test/sebastian_calif.xml\n",
      "Extracting from:  GeneralData/test/schutzea.xml\n",
      "Correcting:  GeneralData/test/schutzea.xml\n",
      "Calculating sentiment using AFINN: GeneralData/test/schutzea.xml\n",
      "Extracting from:  GeneralData/test/stylelisticgrooves.xml\n",
      "Correcting:  GeneralData/test/stylelisticgrooves.xml\n",
      "Calculating sentiment using AFINN: GeneralData/test/stylelisticgrooves.xml\n",
      "Extracting from:  GeneralData/test/sjklanke.xml\n",
      "Correcting:  GeneralData/test/sjklanke.xml\n",
      "Calculating sentiment using AFINN: GeneralData/test/sjklanke.xml\n",
      "Extracting from:  GeneralData/test/the_third_storm.xml\n",
      "Correcting:  GeneralData/test/the_third_storm.xml\n",
      "Calculating sentiment using AFINN: GeneralData/test/the_third_storm.xml\n",
      "Extracting from:  GeneralData/test/rayray121980.xml\n",
      "Correcting:  GeneralData/test/rayray121980.xml\n",
      "Calculating sentiment using AFINN: GeneralData/test/rayray121980.xml\n",
      "Extracting from:  GeneralData/test/shinelfmc2005.xml\n",
      "Correcting:  GeneralData/test/shinelfmc2005.xml\n",
      "Calculating sentiment using AFINN: GeneralData/test/shinelfmc2005.xml\n",
      "Extracting from:  GeneralData/test/tunnels12000.xml\n",
      "Correcting:  GeneralData/test/tunnels12000.xml\n",
      "Calculating sentiment using AFINN: GeneralData/test/tunnels12000.xml\n",
      "Extracting from:  GeneralData/test/texassailor04.xml\n",
      "Correcting:  GeneralData/test/texassailor04.xml\n",
      "Calculating sentiment using AFINN: GeneralData/test/texassailor04.xml\n",
      "Extracting from:  GeneralData/test/sugardavis.xml\n",
      "Correcting:  GeneralData/test/sugardavis.xml\n",
      "Calculating sentiment using AFINN: GeneralData/test/sugardavis.xml\n",
      "Extracting from:  GeneralData/test/steelmanoo.xml\n",
      "Correcting:  GeneralData/test/steelmanoo.xml\n",
      "Calculating sentiment using AFINN: GeneralData/test/steelmanoo.xml\n",
      "Extracting from:  GeneralData/test/vipper_131.xml\n",
      "Correcting:  GeneralData/test/vipper_131.xml\n",
      "Calculating sentiment using AFINN: GeneralData/test/vipper_131.xml\n",
      "Extracting from:  GeneralData/test/user194547.xml\n",
      "Correcting:  GeneralData/test/user194547.xml\n",
      "Calculating sentiment using AFINN: GeneralData/test/user194547.xml\n",
      "Extracting from:  GeneralData/test/thedude420xxx.xml\n",
      "Correcting:  GeneralData/test/thedude420xxx.xml\n",
      "Calculating sentiment using AFINN: GeneralData/test/thedude420xxx.xml\n",
      "Extracting from:  GeneralData/test/sunrise_sunset66.xml\n",
      "Correcting:  GeneralData/test/sunrise_sunset66.xml\n",
      "Calculating sentiment using AFINN: GeneralData/test/sunrise_sunset66.xml\n",
      "Extracting from:  GeneralData/test/spongebob_giantdick.xml\n",
      "Correcting:  GeneralData/test/spongebob_giantdick.xml\n",
      "Calculating sentiment using AFINN: GeneralData/test/spongebob_giantdick.xml\n"
     ]
    }
   ],
   "source": [
    "for file in test_files:\n",
    "    data_extractor(file, \"test\")"
   ]
  },
  {
   "cell_type": "code",
   "execution_count": 12,
   "metadata": {
    "collapsed": false
   },
   "outputs": [
    {
     "data": {
      "text/plain": [
       "(10976, 2)"
      ]
     },
     "execution_count": 12,
     "metadata": {},
     "output_type": "execute_result"
    }
   ],
   "source": [
    "train = pd.read_csv(\"clean-training-set-OCSVM.tsv\", header=0, delimiter='\\t')\n",
    "train.shape"
   ]
  },
  {
   "cell_type": "code",
   "execution_count": 13,
   "metadata": {
    "collapsed": false
   },
   "outputs": [
    {
     "data": {
      "text/plain": [
       "array(['chat', 'sentiment'], dtype=object)"
      ]
     },
     "execution_count": 13,
     "metadata": {},
     "output_type": "execute_result"
    }
   ],
   "source": [
    "train.columns.values"
   ]
  },
  {
   "cell_type": "code",
   "execution_count": 14,
   "metadata": {
    "collapsed": true
   },
   "outputs": [],
   "source": [
    "chat_sents = []\n",
    "for i in range(train[\"chat\"].size):\n",
    "    chat_sents.append(train[\"chat\"][i])"
   ]
  },
  {
   "cell_type": "code",
   "execution_count": 15,
   "metadata": {
    "collapsed": false
   },
   "outputs": [],
   "source": [
    "vectorizer = CountVectorizer(analyzer = \"word\",   \\\n",
    "                             tokenizer = None,    \\\n",
    "                             preprocessor = None, \\\n",
    "                             stop_words = \"english\",   \\\n",
    "                             max_features = 50000)\n",
    "\n",
    "train_data_features = vectorizer.fit_transform(chat_sents)\n",
    "train_data_features = train_data_features.toarray()"
   ]
  },
  {
   "cell_type": "code",
   "execution_count": 16,
   "metadata": {
    "collapsed": false
   },
   "outputs": [
    {
     "data": {
      "text/plain": [
       "(10976, 4168)"
      ]
     },
     "execution_count": 16,
     "metadata": {},
     "output_type": "execute_result"
    }
   ],
   "source": [
    "train_data_features.shape"
   ]
  },
  {
   "cell_type": "code",
   "execution_count": 19,
   "metadata": {
    "collapsed": false
   },
   "outputs": [
    {
     "data": {
      "text/plain": [
       "(25873, 2)"
      ]
     },
     "execution_count": 19,
     "metadata": {},
     "output_type": "execute_result"
    }
   ],
   "source": [
    "test = pd.read_csv(\"clean-testing-set-OCSVM.tsv\", header=0, delimiter='\\t')\n",
    "test.shape"
   ]
  },
  {
   "cell_type": "code",
   "execution_count": 20,
   "metadata": {
    "collapsed": false
   },
   "outputs": [
    {
     "data": {
      "text/plain": [
       "array(['chat', 'sentiment'], dtype=object)"
      ]
     },
     "execution_count": 20,
     "metadata": {},
     "output_type": "execute_result"
    }
   ],
   "source": [
    "test.columns.values"
   ]
  },
  {
   "cell_type": "code",
   "execution_count": 26,
   "metadata": {
    "collapsed": true
   },
   "outputs": [],
   "source": [
    "test_chat_sents = []\n",
    "for i in range(test[\"chat\"].size):\n",
    "    test_chat_sents.append(test[\"chat\"][i])"
   ]
  },
  {
   "cell_type": "code",
   "execution_count": 27,
   "metadata": {
    "collapsed": false
   },
   "outputs": [],
   "source": [
    "test_data_features = vectorizer.transform(test_chat_sents)\n",
    "test_data_features = test_data_features.toarray()"
   ]
  },
  {
   "cell_type": "code",
   "execution_count": 28,
   "metadata": {
    "collapsed": false
   },
   "outputs": [
    {
     "name": "stdout",
     "output_type": "stream",
     "text": [
      "[LibSVM]"
     ]
    }
   ],
   "source": [
    "clf = svm.OneClassSVM(tol=0.0001, verbose=True,\n",
    "                      random_state=np.random.seed(0))\n",
    "\n",
    "clf.fit(train_data_features)\n",
    "\n",
    "y_pred_train = clf.predict(train_data_features)\n",
    "y_pred_test = clf.predict(test_data_features)\n",
    "\n",
    "n_error_train = y_pred_train[y_pred_train == -1].size\n",
    "n_error_test = y_pred_test[y_pred_test == -1].size"
   ]
  },
  {
   "cell_type": "code",
   "execution_count": 29,
   "metadata": {
    "collapsed": false
   },
   "outputs": [
    {
     "name": "stdout",
     "output_type": "stream",
     "text": [
      "Train accuracy: 49.95 %\n",
      "Test accuracy : 55.56 %\n"
     ]
    }
   ],
   "source": [
    "print(\"Train accuracy: %0.2f\" % (100-((n_error_train/y_pred_train.size)*100)), \"%\")\n",
    "print(\"Test accuracy : %0.2f\" % (100-((n_error_test/y_pred_test.size)*100)), \"%\")"
   ]
  },
  {
   "cell_type": "code",
   "execution_count": 30,
   "metadata": {
    "collapsed": false
   },
   "outputs": [
    {
     "name": "stdout",
     "output_type": "stream",
     "text": [
      "             precision    recall  f1-score   support\n",
      "\n",
      "        -34       0.00      0.00      0.00         1\n",
      "        -17       0.00      0.00      0.00         1\n",
      "        -16       0.00      0.00      0.00         3\n",
      "        -14       0.00      0.00      0.00         3\n",
      "        -12       0.00      0.00      0.00         1\n",
      "        -11       0.00      0.00      0.00         1\n",
      "        -10       0.00      0.00      0.00         5\n",
      "         -9       0.00      0.00      0.00         8\n",
      "         -8       0.00      0.00      0.00        18\n",
      "         -7       0.00      0.00      0.00        15\n",
      "         -6       0.00      0.00      0.00        49\n",
      "         -5       0.00      0.00      0.00        72\n",
      "         -4       0.00      0.00      0.00       194\n",
      "         -3       0.00      0.00      0.00       413\n",
      "         -2       0.00      0.00      0.00       670\n",
      "         -1       0.05      0.49      0.09      1099\n",
      "          0       0.00      0.00      0.00     16640\n",
      "          1       0.08      0.56      0.15      2138\n",
      "          2       0.00      0.00      0.00      1933\n",
      "          3       0.00      0.00      0.00      1410\n",
      "          4       0.00      0.00      0.00       629\n",
      "          5       0.00      0.00      0.00       161\n",
      "          6       0.00      0.00      0.00       174\n",
      "          7       0.00      0.00      0.00        90\n",
      "          8       0.00      0.00      0.00        36\n",
      "          9       0.00      0.00      0.00        35\n",
      "         10       0.00      0.00      0.00        14\n",
      "         11       0.00      0.00      0.00        13\n",
      "         12       0.00      0.00      0.00        10\n",
      "         13       0.00      0.00      0.00         7\n",
      "         14       0.00      0.00      0.00         8\n",
      "         15       0.00      0.00      0.00         6\n",
      "         16       0.00      0.00      0.00         1\n",
      "         18       0.00      0.00      0.00         2\n",
      "         19       0.00      0.00      0.00         1\n",
      "         20       0.00      0.00      0.00         2\n",
      "         21       0.00      0.00      0.00         1\n",
      "         24       0.00      0.00      0.00         2\n",
      "         28       0.00      0.00      0.00         2\n",
      "         34       0.00      0.00      0.00         1\n",
      "         38       0.00      0.00      0.00         1\n",
      "         70       0.00      0.00      0.00         1\n",
      "        164       0.00      0.00      0.00         1\n",
      "        318       0.00      0.00      0.00         1\n",
      "\n",
      "avg / total       0.01      0.07      0.02     25873\n",
      "\n"
     ]
    },
    {
     "name": "stderr",
     "output_type": "stream",
     "text": [
      "/usr/lib/python3.5/site-packages/sklearn/metrics/classification.py:1117: UndefinedMetricWarning: Precision and F-score are ill-defined and being set to 0.0 in labels with no predicted samples.\n",
      "  'precision', 'predicted', average, warn_for)\n"
     ]
    }
   ],
   "source": [
    "print(classification_report(test[\"sentiment\"], y_pred_test))"
   ]
  },
  {
   "cell_type": "code",
   "execution_count": 33,
   "metadata": {
    "collapsed": false
   },
   "outputs": [
    {
     "data": {
      "image/png": "[encoded data removed]",
      "text/plain": [
       "<matplotlib.figure.Figure at 0x7f6f03921780>"
      ]
     },
     "metadata": {},
     "output_type": "display_data"
    },
    {
     "data": {
      "image/png": "[encoded data removed]",
      "text/plain": [
       "<matplotlib.figure.Figure at 0x7f6e98a4e128>"
      ]
     },
     "metadata": {},
     "output_type": "display_data"
    }
   ],
   "source": [
    "def plot_confusion_matrix(cm, title='Confusion matrix', cmap=plt.cm.Blues):\n",
    "    plt.imshow(cm, interpolation='nearest', cmap=cmap)\n",
    "    plt.title(title)\n",
    "    plt.colorbar()\n",
    "    plt.tight_layout()\n",
    "    plt.ylabel('True label')\n",
    "    plt.xlabel('Predicted label')\n",
    "    \n",
    "# Compute confusion matrix\n",
    "cm = confusion_matrix(test[\"sentiment\"], y_pred_test)\n",
    "np.set_printoptions(precision=2)\n",
    "#print('Confusion matrix, without normalization')\n",
    "#print(cm)\n",
    "plt.figure()\n",
    "plot_confusion_matrix(cm)\n",
    "\n",
    "# Normalize the confusion matrix by row (i.e by the number of samples\n",
    "# in each class)\n",
    "cm_normalized = cm.astype('float') / cm.sum(axis=1)[:, np.newaxis]\n",
    "#print('Normalized confusion matrix')\n",
    "#print(cm_normalized)\n",
    "plt.figure()\n",
    "plot_confusion_matrix(cm_normalized, title='Normalized confusion matrix')\n",
    "\n",
    "plt.show()"
   ]
  },
  {
   "cell_type": "code",
   "execution_count": null,
   "metadata": {
    "collapsed": true
   },
   "outputs": [],
   "source": []
  }
 ],
 "metadata": {
  "kernelspec": {
   "display_name": "Python 3",
   "language": "python",
   "name": "python3"
  },
  "language_info": {
   "codemirror_mode": {
    "name": "ipython",
    "version": 3
   },
   "file_extension": ".py",
   "mimetype": "text/x-python",
   "name": "python",
   "nbconvert_exporter": "python",
   "pygments_lexer": "ipython3",
   "version": "3.5.1"
  }
 },
 "nbformat": 4,
 "nbformat_minor": 0
}

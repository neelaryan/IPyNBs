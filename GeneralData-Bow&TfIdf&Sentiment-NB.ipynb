{
 "cells": [
  {
   "cell_type": "code",
   "execution_count": 24,
   "metadata": {
    "collapsed": true
   },
   "outputs": [],
   "source": [
    "import pandas as pd\n",
    "import seaborn as ns\n",
    "import numpy as np\n",
    "\n",
    "from matplotlib import pyplot as plt\n",
    "from sklearn.feature_extraction.text import CountVectorizer, TfidfTransformer\n",
    "from sklearn.naive_bayes import MultinomialNB\n",
    "from sklearn.pipeline import Pipeline\n",
    "from sklearn.metrics import classification_report, confusion_matrix\n",
    "\n",
    "%matplotlib inline"
   ]
  },
  {
   "cell_type": "code",
   "execution_count": 10,
   "metadata": {
    "collapsed": false
   },
   "outputs": [
    {
     "data": {
      "text/plain": [
       "(25643, 2)"
      ]
     },
     "execution_count": 10,
     "metadata": {},
     "output_type": "execute_result"
    }
   ],
   "source": [
    "train_df = pd.read_csv(\"clean-training-set.tsv\", header=0, delimiter='\\t')\n",
    "train_df.shape"
   ]
  },
  {
   "cell_type": "code",
   "execution_count": 11,
   "metadata": {
    "collapsed": true
   },
   "outputs": [],
   "source": [
    "train_set = []\n",
    "for i in range(train_df[\"chat\"].size):\n",
    "    train_set.append(train[\"chat\"][i])"
   ]
  },
  {
   "cell_type": "code",
   "execution_count": 12,
   "metadata": {
    "collapsed": false
   },
   "outputs": [
    {
     "data": {
      "text/plain": [
       "(25873, 2)"
      ]
     },
     "execution_count": 12,
     "metadata": {},
     "output_type": "execute_result"
    }
   ],
   "source": [
    "test_df = pd.read_csv(\"clean-testing-set.tsv\", header=0, delimiter='\\t')\n",
    "test_df.shape"
   ]
  },
  {
   "cell_type": "code",
   "execution_count": 13,
   "metadata": {
    "collapsed": false
   },
   "outputs": [],
   "source": [
    "test_set = []\n",
    "for i in range(test_df[\"chat\"].size):\n",
    "    test_set.append(test_df[\"chat\"][i])"
   ]
  },
  {
   "cell_type": "code",
   "execution_count": 15,
   "metadata": {
    "collapsed": false
   },
   "outputs": [],
   "source": [
    "p_clf = Pipeline([('vect', CountVectorizer(analyzer=\"word\", stopwords=\"english\")),\n",
    "                     ('tfidf', TfidfTransformer()),\n",
    "                     ('clf', MultinomialNB())\n",
    "                    ])"
   ]
  },
  {
   "cell_type": "code",
   "execution_count": 16,
   "metadata": {
    "collapsed": true
   },
   "outputs": [],
   "source": [
    "p_clf = p_clf.fit(train_set, train_df[\"sentiment\"])"
   ]
  },
  {
   "cell_type": "code",
   "execution_count": 17,
   "metadata": {
    "collapsed": true
   },
   "outputs": [],
   "source": [
    "prediction = p_clf.predict(test_set)"
   ]
  },
  {
   "cell_type": "code",
   "execution_count": 19,
   "metadata": {
    "collapsed": false
   },
   "outputs": [
    {
     "data": {
      "text/plain": [
       "0.7202875584586248"
      ]
     },
     "execution_count": 19,
     "metadata": {},
     "output_type": "execute_result"
    }
   ],
   "source": [
    "p_clf.score(test_set, test_df[\"sentiment\"])"
   ]
  },
  {
   "cell_type": "code",
   "execution_count": 22,
   "metadata": {
    "collapsed": false
   },
   "outputs": [
    {
     "name": "stdout",
     "output_type": "stream",
     "text": [
      "             precision    recall  f1-score   support\n",
      "\n",
      "        -34       0.00      0.00      0.00         1\n",
      "        -17       0.00      0.00      0.00         1\n",
      "        -16       0.00      0.00      0.00         2\n",
      "        -14       0.00      0.00      0.00         4\n",
      "        -12       0.00      0.00      0.00         1\n",
      "        -11       0.00      0.00      0.00         1\n",
      "        -10       0.00      0.00      0.00         6\n",
      "         -9       0.00      0.00      0.00         8\n",
      "         -8       0.00      0.00      0.00        21\n",
      "         -7       0.00      0.00      0.00        15\n",
      "         -6       0.00      0.00      0.00        50\n",
      "         -5       0.00      0.00      0.00        72\n",
      "         -4       0.00      0.00      0.00       193\n",
      "         -3       0.62      0.01      0.02       414\n",
      "         -2       0.86      0.06      0.11       670\n",
      "         -1       0.88      0.28      0.43      1097\n",
      "          0       0.71      1.00      0.83     16624\n",
      "          1       0.87      0.41      0.56      2142\n",
      "          2       0.68      0.19      0.29      1923\n",
      "          3       0.82      0.24      0.37      1416\n",
      "          4       0.70      0.21      0.33       637\n",
      "          5       0.00      0.00      0.00       162\n",
      "          6       0.00      0.00      0.00       174\n",
      "          7       0.00      0.00      0.00        89\n",
      "          8       0.00      0.00      0.00        36\n",
      "          9       0.00      0.00      0.00        36\n",
      "         10       0.00      0.00      0.00        16\n",
      "         11       0.00      0.00      0.00        13\n",
      "         12       0.00      0.00      0.00        10\n",
      "         13       0.00      0.00      0.00         7\n",
      "         14       0.00      0.00      0.00         8\n",
      "         15       0.00      0.00      0.00         6\n",
      "         16       0.00      0.00      0.00         1\n",
      "         18       0.00      0.00      0.00         3\n",
      "         19       0.00      0.00      0.00         1\n",
      "         20       0.00      0.00      0.00         2\n",
      "         21       0.00      0.00      0.00         1\n",
      "         24       0.00      0.00      0.00         3\n",
      "         28       0.00      0.00      0.00         1\n",
      "         34       0.00      0.00      0.00         1\n",
      "         38       0.00      0.00      0.00         1\n",
      "         56       0.00      0.00      0.00         1\n",
      "         70       0.00      0.00      0.00         1\n",
      "        164       0.00      0.00      0.00         1\n",
      "        318       0.00      0.00      0.00         1\n",
      "\n",
      "avg / total       0.71      0.72      0.65     25873\n",
      "\n"
     ]
    }
   ],
   "source": [
    "print(classification_report(test_df[\"sentiment\"], prediction))"
   ]
  },
  {
   "cell_type": "code",
   "execution_count": 26,
   "metadata": {
    "collapsed": false
   },
   "outputs": [
    {
     "data": {
      "image/png": "[encoded data removed]",
      "text/plain": [
       "<matplotlib.figure.Figure at 0x7fc35a02aa10>"
      ]
     },
     "metadata": {},
     "output_type": "display_data"
    },
    {
     "data": {
      "image/png": "[encoded data removed]",
      "text/plain": [
       "<matplotlib.figure.Figure at 0x7fc35980b890>"
      ]
     },
     "metadata": {},
     "output_type": "display_data"
    }
   ],
   "source": [
    "def plot_confusion_matrix(cm, title='Confusion matrix', cmap=plt.cm.Blues):\n",
    "    plt.imshow(cm, interpolation='nearest', cmap=cmap)\n",
    "    plt.title(title)\n",
    "    plt.colorbar()\n",
    "    plt.tight_layout()\n",
    "    plt.ylabel('True label')\n",
    "    plt.xlabel('Predicted label')\n",
    "    \n",
    "# Compute confusion matrix\n",
    "cm = confusion_matrix(test_df[\"sentiment\"], prediction)\n",
    "np.set_printoptions(precision=2)\n",
    "#print('Confusion matrix, without normalization')\n",
    "#print(cm)\n",
    "plt.figure()\n",
    "plot_confusion_matrix(cm)\n",
    "\n",
    "# Normalize the confusion matrix by row (i.e by the number of samples\n",
    "# in each class)\n",
    "cm_normalized = cm.astype('float') / cm.sum(axis=1)[:, np.newaxis]\n",
    "#print('Normalized confusion matrix')\n",
    "#print(cm_normalized)\n",
    "plt.figure()\n",
    "plot_confusion_matrix(cm_normalized, title='Normalized confusion matrix')\n",
    "\n",
    "plt.show()"
   ]
  },
  {
   "cell_type": "code",
   "execution_count": null,
   "metadata": {
    "collapsed": true
   },
   "outputs": [],
   "source": []
  }
 ],
 "metadata": {
  "kernelspec": {
   "display_name": "Python 3",
   "language": "python",
   "name": "python3"
  },
  "language_info": {
   "codemirror_mode": {
    "name": "ipython",
    "version": 3
   },
   "file_extension": ".py",
   "mimetype": "text/x-python",
   "name": "python",
   "nbconvert_exporter": "python",
   "pygments_lexer": "ipython3",
   "version": "3.3.2"
  }
 },
 "nbformat": 4,
 "nbformat_minor": 0
}

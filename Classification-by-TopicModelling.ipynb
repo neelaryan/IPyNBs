{
 "cells": [
  {
   "cell_type": "code",
   "execution_count": 1,
   "metadata": {
    "collapsed": false
   },
   "outputs": [],
   "source": [
    "import re\n",
    "import string\n",
    "import gensim\n",
    "import logging\n",
    "\n",
    "from gensim import corpora, models\n",
    "from gensim.utils import smart_open, simple_preprocess\n",
    "from gensim.parsing.preprocessing import STOPWORDS\n",
    "\n",
    "logging.basicConfig(format='%(levelname)s : %(message)s', level=logging.INFO)\n",
    "logging.root.level = logging.INFO"
   ]
  },
  {
   "cell_type": "code",
   "execution_count": 2,
   "metadata": {
    "collapsed": false
   },
   "outputs": [],
   "source": [
    "allreviews = list()\n",
    "review_details = dict()\n",
    "clearing = 0\n",
    "\n",
    "with open('Cell_Phones_&_Accessories.txt') as f:\n",
    "    line = f.readlines()\n",
    "\n",
    "lines = len(line)\n",
    "\n",
    "f = open('Cell_Phones_&_Accessories.txt')\n",
    "while lines > 0:\n",
    "    line = f.readline()\n",
    "    stripped_line = re.split(': ',line.strip())\n",
    "    if len(stripped_line) > 1:\n",
    "        review_details[stripped_line[0]] = stripped_line[1]\n",
    "    elif len(stripped_line) == 1 and len(stripped_line[0]) > 0:\n",
    "        review_details[stripped_line[0]] = ''\n",
    "    elif len(stripped_line[0]) == 0:\n",
    "        allreviews.append(review_details)\n",
    "        review_details = dict()\n",
    "        clearing = clearing + 1\n",
    "    lines = lines - 1"
   ]
  },
  {
   "cell_type": "code",
   "execution_count": 3,
   "metadata": {
    "collapsed": false
   },
   "outputs": [
    {
     "data": {
      "text/plain": [
       "78930"
      ]
     },
     "execution_count": 3,
     "metadata": {},
     "output_type": "execute_result"
    }
   ],
   "source": [
    "len(allreviews)\n",
    "# should be 78930"
   ]
  },
  {
   "cell_type": "code",
   "execution_count": 4,
   "metadata": {
    "collapsed": false
   },
   "outputs": [],
   "source": [
    "#convert into list of list's, where each list is a review text\n",
    "\n",
    "s = \"string. With. Punctuation\"\n",
    "regex = re.compile('[%s]' % re.escape(string.punctuation))\n",
    "\n",
    "def test_re(s):\n",
    "    return regex.sub('', s)\n",
    "\n",
    "def process(foo):\n",
    "    foo = foo.lower()\n",
    "    [token for token in simple_preprocess(foo) if token not in STOPWORDS]\n",
    "    foo = test_re(foo)\n",
    "    return foo\n",
    "\n",
    "document = list()\n",
    "\n",
    "for reviews in allreviews:\n",
    "    tmp = list()\n",
    "    tmp.append(process(reviews[\"review/text\"]).split())\n",
    "    document.extend(tmp)"
   ]
  },
  {
   "cell_type": "code",
   "execution_count": 5,
   "metadata": {
    "collapsed": false
   },
   "outputs": [
    {
     "data": {
      "text/plain": [
       "78930"
      ]
     },
     "execution_count": 5,
     "metadata": {},
     "output_type": "execute_result"
    }
   ],
   "source": [
    "len(document)"
   ]
  },
  {
   "cell_type": "code",
   "execution_count": 6,
   "metadata": {
    "collapsed": false
   },
   "outputs": [],
   "source": [
    "'''def do_lda():\n",
    "    dictionary = corpora.Dictionary(document)\n",
    "    corpus = [dictionary.doc2bow(text) for text in document]\n",
    "    lda = gensim.models.ldamulticore.LdaMulticore(corpus, id2word=dictionary, num_topics = 500, workers=25, passes=4)\n",
    "    #lda_model = lda.print_topics(num_topics=25, num_words=5)\n",
    "    return lda\n",
    "\n",
    "%time lda_model = do_lda()\n",
    "type(lda_model)'''\n",
    "\n",
    "dictionary = corpora.Dictionary(document)"
   ]
  },
  {
   "cell_type": "code",
   "execution_count": 7,
   "metadata": {
    "collapsed": true
   },
   "outputs": [],
   "source": [
    "corpus = [dictionary.doc2bow(text) for text in document]"
   ]
  },
  {
   "cell_type": "code",
   "execution_count": 8,
   "metadata": {
    "collapsed": false
   },
   "outputs": [
    {
     "name": "stdout",
     "output_type": "stream",
     "text": [
      "CPU times: user 1min 30s, sys: 12.5 s, total: 1min 43s\n",
      "Wall time: 1min 34s\n"
     ]
    }
   ],
   "source": [
    "%time lda = models.ldamulticore.LdaMulticore(corpus, id2word=dictionary, num_topics = 10, workers=25, passes=4)"
   ]
  },
  {
   "cell_type": "code",
   "execution_count": 11,
   "metadata": {
    "collapsed": false
   },
   "outputs": [
    {
     "data": {
      "text/plain": [
       "[(0,\n",
       "  '0.070*the + 0.032*i + 0.027*it + 0.026*and + 0.022*to + 0.020*is + 0.019*this + 0.016*a + 0.013*my + 0.012*case'),\n",
       " (1,\n",
       "  '0.015*and + 0.010*the + 0.009*it + 0.009*to + 0.008*for + 0.008*i + 0.008*my + 0.007*this + 0.006*is + 0.006*de'),\n",
       " (2,\n",
       "  '0.023*phone + 0.019*to + 0.018*is + 0.017*this + 0.017*and + 0.017*the + 0.017*a + 0.016*i + 0.014*it + 0.012*you'),\n",
       " (3,\n",
       "  '0.066*the + 0.030*is + 0.023*and + 0.022*a + 0.020*it + 0.020*to + 0.019*of + 0.017*phone + 0.016*this + 0.015*you'),\n",
       " (4,\n",
       "  '0.056*the + 0.045*i + 0.032*it + 0.025*a + 0.021*to + 0.020*and + 0.019*is + 0.016*this + 0.014*have + 0.013*of'),\n",
       " (5,\n",
       "  '0.036*the + 0.019*i + 0.018*a + 0.018*it + 0.014*and + 0.014*is + 0.012*to + 0.012*in + 0.012*for + 0.011*that'),\n",
       " (6,\n",
       "  '0.054*the + 0.034*it + 0.032*to + 0.031*and + 0.023*a + 0.022*i + 0.019*phone + 0.016*of + 0.014*is + 0.013*for'),\n",
       " (7,\n",
       "  '0.057*the + 0.036*i + 0.031*to + 0.030*and + 0.028*a + 0.020*is + 0.016*my + 0.016*it + 0.014*for + 0.014*this'),\n",
       " (8,\n",
       "  '0.045*the + 0.032*it + 0.032*a + 0.023*battery + 0.023*i + 0.023*phone + 0.017*and + 0.016*is + 0.015*to + 0.014*this'),\n",
       " (9,\n",
       "  '0.031*i + 0.027*and + 0.027*to + 0.023*the + 0.021*a + 0.019*for + 0.019*it + 0.018*this + 0.017*as + 0.017*you')]"
      ]
     },
     "execution_count": 11,
     "metadata": {},
     "output_type": "execute_result"
    }
   ],
   "source": [
    "lda.print_topics(-1)"
   ]
  },
  {
   "cell_type": "code",
   "execution_count": 17,
   "metadata": {
    "collapsed": false
   },
   "outputs": [],
   "source": [
    "topics = lda.print_topics(num_topics=25, num_words=5)"
   ]
  },
  {
   "cell_type": "code",
   "execution_count": 15,
   "metadata": {
    "collapsed": false
   },
   "outputs": [
    {
     "name": "stdout",
     "output_type": "stream",
     "text": [
      "CPU times: user 1.43 s, sys: 189 ms, total: 1.62 s\n",
      "Wall time: 1.62 s\n"
     ]
    }
   ],
   "source": [
    "%time tfidf_model = models.TfidfModel(corpus, id2word=dictionary)"
   ]
  },
  {
   "cell_type": "code",
   "execution_count": 16,
   "metadata": {
    "collapsed": false
   },
   "outputs": [
    {
     "name": "stdout",
     "output_type": "stream",
     "text": [
      "CPU times: user 6min 33s, sys: 5.18 s, total: 6min 39s\n",
      "Wall time: 6min 38s\n"
     ]
    }
   ],
   "source": [
    "%time lsi_model = models.LsiModel(tfidf_model[corpus], id2word=dictionary, num_topics=200)"
   ]
  },
  {
   "cell_type": "code",
   "execution_count": 18,
   "metadata": {
    "collapsed": false
   },
   "outputs": [
    {
     "name": "stdout",
     "output_type": "stream",
     "text": [
      "CPU times: user 20.7 s, sys: 404 ms, total: 21.1 s\n",
      "Wall time: 21.3 s\n",
      "CPU times: user 1min 3s, sys: 907 ms, total: 1min 4s\n",
      "Wall time: 1min 4s\n"
     ]
    }
   ],
   "source": [
    "%time corpora.MmCorpus.serialize('reviewcorpus_tfidf.mm', tfidf_model[corpus])\n",
    "%time corpora.MmCorpus.serialize('reviewcorpus_lsa.mm', lsi_model[tfidf_model[corpus]])"
   ]
  },
  {
   "cell_type": "code",
   "execution_count": 19,
   "metadata": {
    "collapsed": false
   },
   "outputs": [
    {
     "name": "stdout",
     "output_type": "stream",
     "text": [
      "MmCorpus(78930 documents, 122425 features, 4811390 non-zero entries)\n",
      "MmCorpus(78930 documents, 200 features, 15786000 non-zero entries)\n"
     ]
    }
   ],
   "source": [
    "tfidf_corpus = corpora.MmCorpus('reviewcorpus_tfidf.mm')\n",
    "# `tfidf_corpus` is now exactly the same as `tfidf_model[wiki_corpus]`\n",
    "print(tfidf_corpus)\n",
    "\n",
    "lsi_corpus = corpora.MmCorpus('reviewcorpus_lsa.mm')\n",
    "# and `lsi_corpus` now equals `lsi_model[tfidf_model[wiki_corpus]]` = `lsi_model[tfidf_corpus]`\n",
    "print(lsi_corpus)"
   ]
  },
  {
   "cell_type": "code",
   "execution_count": 22,
   "metadata": {
    "collapsed": false
   },
   "outputs": [
    {
     "name": "stdout",
     "output_type": "stream",
     "text": [
      "[('this', 1), ('but', 1), ('i', 1), ('phone', 2), ('is', 1), ('not', 1), ('much', 1), ('very', 4), ('camera', 1), ('cheap', 1), ('yet', 1), ('good', 1), ('battery', 1), ('run', 1), ('fast', 2), ('liked', 1), ('games', 1), ('powerful', 1), ('dies', 1)]\n"
     ]
    }
   ],
   "source": [
    "text = \"I liked this phone very much. Battery dies very fast. Cheap yet powerful phone. \\\n",
    "Camera is not very good. But games run very fast.\"\n",
    "\n",
    "# transform text into the bag-of-words space\n",
    "bow_vector = dictionary.doc2bow(process(text).split())\n",
    "print([(dictionary[id], count) for id, count in bow_vector])"
   ]
  },
  {
   "cell_type": "code",
   "execution_count": 23,
   "metadata": {
    "collapsed": false
   },
   "outputs": [
    {
     "name": "stdout",
     "output_type": "stream",
     "text": [
      "[(2, 0.26363101138675304), (8, 0.70436138829554928)]\n",
      "0.045*the + 0.032*it + 0.032*a + 0.023*battery + 0.023*i + 0.023*phone + 0.017*and + 0.016*is + 0.015*to + 0.014*this\n"
     ]
    }
   ],
   "source": [
    "# transform into LDA space\n",
    "lda_vector = lda[bow_vector]\n",
    "print(lda_vector)\n",
    "# print the document's single most prominent LDA topic\n",
    "print(lda.print_topic(max(lda_vector, key=lambda item: item[1])[0]))"
   ]
  },
  {
   "cell_type": "code",
   "execution_count": 25,
   "metadata": {
    "collapsed": false
   },
   "outputs": [],
   "source": [
    "# store all trained models to disk\n",
    "lda.save('reviewcorpus_lda.model')\n",
    "lsi_model.save('reviewcorpus_lsi.model')\n",
    "tfidf_model.save('reviewcorpus_tfidf.model')\n",
    "dictionary.save('reviewcorpus.dictionary')"
   ]
  },
  {
   "cell_type": "code",
   "execution_count": 26,
   "metadata": {
    "collapsed": true
   },
   "outputs": [],
   "source": [
    "# load the same model back; the result is equal to `lda_model`\n",
    "#same_lda_model = models.LdaModel.load('reviewcorpus_lda.model')"
   ]
  },
  {
   "cell_type": "markdown",
   "metadata": {},
   "source": [
    "### Testing with a few first reviews. The entire corpus was used to train the models. Results may not be accurate, thus."
   ]
  },
  {
   "cell_type": "code",
   "execution_count": 35,
   "metadata": {
    "collapsed": false
   },
   "outputs": [
    {
     "name": "stdout",
     "output_type": "stream",
     "text": [
      "{'battery': '0.023'}\n",
      "{'battery': '0.023'}\n",
      "{'battery': '0.023'}\n",
      "{'battery': '0.023'}\n",
      "{'battery': '0.023'}\n",
      "{'battery': '0.023'}\n",
      "{'battery': '0.023'}\n",
      "{'battery': '0.023'}\n",
      "{'battery': '0.023'}\n",
      "{'battery': '0.023'}\n",
      "{'battery': '0.023'}\n",
      "{'battery': '0.023'}\n",
      "{'battery': '0.023'}\n",
      "{'battery': '0.023'}\n",
      "{'battery': '0.023'}\n",
      "{'battery': '0.023'}\n",
      "{'battery': '0.023'}\n",
      "{'battery': '0.023'}\n",
      "{'battery': '0.023'}\n",
      "{'battery': '0.023'}\n",
      "{'battery': '0.023'}\n",
      "{'battery': '0.023'}\n",
      "{'battery': '0.023'}\n",
      "{'battery': '0.023'}\n",
      "{'battery': '0.023'}\n",
      "{'battery': '0.023'}\n",
      "{'battery': '0.023'}\n",
      "{'battery': '0.023'}\n",
      "{'battery': '0.023'}\n",
      "{'battery': '0.023'}\n",
      "{'battery': '0.023'}\n",
      "{'battery': '0.023'}\n",
      "{'battery': '0.023'}\n",
      "{'battery': '0.023'}\n",
      "{'battery': '0.023'}\n",
      "{'battery': '0.023'}\n",
      "{'battery': '0.023'}\n",
      "{'battery': '0.023'}\n",
      "{'battery': '0.023'}\n",
      "{'battery': '0.023'}\n",
      "{'battery': '0.023'}\n",
      "{'battery': '0.023'}\n",
      "{'battery': '0.023'}\n",
      "{'battery': '0.023'}\n",
      "{'battery': '0.023'}\n",
      "{'battery': '0.023'}\n",
      "{'battery': '0.023'}\n",
      "{'battery': '0.023'}\n",
      "{'battery': '0.023'}\n",
      "{'battery': '0.023'}\n",
      "{'battery': '0.023'}\n",
      "{'battery': '0.023'}\n",
      "{'battery': '0.023'}\n",
      "{'battery': '0.023'}\n",
      "{'battery': '0.023'}\n",
      "{'battery': '0.023'}\n",
      "{'battery': '0.023'}\n",
      "{'battery': '0.023'}\n",
      "{'battery': '0.023'}\n",
      "{'battery': '0.023'}\n",
      "{'battery': '0.023'}\n",
      "{'battery': '0.023'}\n",
      "{'battery': '0.023'}\n",
      "{'battery': '0.023'}\n",
      "{'battery': '0.023'}\n",
      "{'battery': '0.023'}\n",
      "{'battery': '0.023'}\n",
      "{'battery': '0.023'}\n",
      "{'battery': '0.023'}\n",
      "{'battery': '0.023'}\n",
      "{'battery': '0.023'}\n",
      "{'battery': '0.023'}\n",
      "{'battery': '0.023'}\n",
      "{'battery': '0.023'}\n",
      "{'battery': '0.023'}\n",
      "{'battery': '0.023'}\n",
      "{'battery': '0.023'}\n",
      "{'battery': '0.023'}\n",
      "{'battery': '0.023'}\n",
      "{'battery': '0.023'}\n",
      "{'battery': '0.023'}\n",
      "{'battery': '0.023'}\n",
      "{'battery': '0.023'}\n",
      "{'battery': '0.023'}\n",
      "{'battery': '0.023'}\n",
      "{'battery': '0.023'}\n",
      "{'battery': '0.023'}\n",
      "{'battery': '0.023'}\n",
      "{'battery': '0.023'}\n",
      "{'battery': '0.023'}\n",
      "{'battery': '0.023'}\n",
      "{'battery': '0.023'}\n",
      "{'battery': '0.023'}\n",
      "{'battery': '0.023'}\n",
      "{'battery': '0.023'}\n",
      "{'battery': '0.023'}\n",
      "{'battery': '0.023'}\n",
      "{'battery': '0.023'}\n",
      "{'battery': '0.023'}\n",
      "{'battery': '0.023'}\n",
      "{'battery': '0.023'}\n",
      "{'battery': '0.023'}\n",
      "{'battery': '0.023'}\n",
      "{'battery': '0.023'}\n",
      "{'battery': '0.023'}\n",
      "{'battery': '0.023'}\n",
      "{'battery': '0.023'}\n",
      "{'battery': '0.023'}\n",
      "{'battery': '0.023'}\n",
      "{'battery': '0.023'}\n",
      "{'battery': '0.023'}\n",
      "{'battery': '0.023'}\n",
      "{'battery': '0.023'}\n",
      "{'battery': '0.023'}\n",
      "{'battery': '0.023'}\n",
      "{'battery': '0.023'}\n",
      "{'battery': '0.023'}\n",
      "{'battery': '0.023'}\n",
      "{'battery': '0.023'}\n",
      "{'battery': '0.023'}\n",
      "{'battery': '0.023'}\n",
      "{'battery': '0.023'}\n",
      "{'battery': '0.023'}\n",
      "{'battery': '0.023'}\n",
      "{'battery': '0.023'}\n",
      "{'battery': '0.023'}\n",
      "{'battery': '0.023'}\n",
      "{'battery': '0.023'}\n",
      "{'battery': '0.023'}\n",
      "{'battery': '0.023'}\n",
      "{'battery': '0.023'}\n"
     ]
    }
   ],
   "source": [
    "ASPECTS = set([\"battery\", \"camera\", \"display\", \"service\", \"body\", \"price\", \"sound\"])\n",
    "i = 0\n",
    "for reviews in allreviews:\n",
    "    bow_vector = dictionary.doc2bow(process(reviews[\"review/text\"]).split())\n",
    "    lda_vector = lda[bow_vector]\n",
    "    topics = lda.print_topic(max(lda_vector, key=lambda item: item[1])[0])\n",
    "    words = topics.split(\" + \")\n",
    "    topics_for_this_review = dict()\n",
    "    for word in words:\n",
    "        prob = word.split(\"*\")\n",
    "        if prob[1] in ASPECTS:\n",
    "            topics_for_this_review[prob[1]] = prob[0]\n",
    "    if len(topics_for_this_review) > 0:\n",
    "        print(topics_for_this_review)\n",
    "    i = i +1\n",
    "    if i == 1000:\n",
    "        break"
   ]
  },
  {
   "cell_type": "markdown",
   "metadata": {},
   "source": [
    "#### Finally, some reviews relating to aspect \"battery\" from top 1000 reviews from the dataset."
   ]
  },
  {
   "cell_type": "code",
   "execution_count": null,
   "metadata": {
    "collapsed": true
   },
   "outputs": [],
   "source": []
  }
 ],
 "metadata": {
  "kernelspec": {
   "display_name": "Python 3",
   "language": "python",
   "name": "python3"
  },
  "language_info": {
   "codemirror_mode": {
    "name": "ipython",
    "version": 3
   },
   "file_extension": ".py",
   "mimetype": "text/x-python",
   "name": "python",
   "nbconvert_exporter": "python",
   "pygments_lexer": "ipython3",
   "version": "3.3.2"
  }
 },
 "nbformat": 4,
 "nbformat_minor": 0
}
